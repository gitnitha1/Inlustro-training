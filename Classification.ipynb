{
  "nbformat": 4,
  "nbformat_minor": 0,
  "metadata": {
    "colab": {
      "provenance": []
    },
    "kernelspec": {
      "name": "python3",
      "display_name": "Python 3"
    },
    "language_info": {
      "name": "python"
    }
  },
  "cells": [
    {
      "cell_type": "code",
      "execution_count": 3,
      "metadata": {
        "id": "ci1w9eXJN9oT"
      },
      "outputs": [],
      "source": [
        "import pandas as pd\n",
        "import numpy as numpy\n",
        "import seaborn as sns\n",
        "import matplotlib.pyplot as plt\n"
      ]
    },
    {
      "cell_type": "code",
      "source": [
        "report=pd.read_csv('/content/column_2C_weka.csv')\n",
        "from sklearn.model_selection import train_test_split\n",
        "from sklearn.ensemble import RandomForestClassifier\n",
        "from sklearn.metrics import accuracy_score\n",
        "from sklearn.preprocessing import LabelEncoder\n",
        "df=pd.DataFrame(report)\n",
        "print(df)"
      ],
      "metadata": {
        "colab": {
          "base_uri": "https://localhost:8080/"
        },
        "id": "wbb2IYTBc26k",
        "outputId": "2f49df21-4231-4aec-b0b5-9108b80174b0"
      },
      "execution_count": 30,
      "outputs": [
        {
          "output_type": "stream",
          "name": "stdout",
          "text": [
            "     pelvic_incidence  pelvic_tilt numeric  lumbar_lordosis_angle  \\\n",
            "0           63.027817            22.552586              39.609117   \n",
            "1           39.056951            10.060991              25.015378   \n",
            "2           68.832021            22.218482              50.092194   \n",
            "3           69.297008            24.652878              44.311238   \n",
            "4           49.712859             9.652075              28.317406   \n",
            "..                ...                  ...                    ...   \n",
            "305         47.903565            13.616688              36.000000   \n",
            "306         53.936748            20.721496              29.220534   \n",
            "307         61.446597            22.694968              46.170347   \n",
            "308         45.252792             8.693157              41.583126   \n",
            "309         33.841641             5.073991              36.641233   \n",
            "\n",
            "     sacral_slope  pelvic_radius  degree_spondylolisthesis     class  \n",
            "0       40.475232      98.672917                 -0.254400  Abnormal  \n",
            "1       28.995960     114.405425                  4.564259  Abnormal  \n",
            "2       46.613539     105.985135                 -3.530317  Abnormal  \n",
            "3       44.644130     101.868495                 11.211523  Abnormal  \n",
            "4       40.060784     108.168725                  7.918501  Abnormal  \n",
            "..            ...            ...                       ...       ...  \n",
            "305     34.286877     117.449062                 -4.245395    Normal  \n",
            "306     33.215251     114.365845                 -0.421010    Normal  \n",
            "307     38.751628     125.670725                 -2.707880    Normal  \n",
            "308     36.559635     118.545842                  0.214750    Normal  \n",
            "309     28.767649     123.945244                 -0.199249    Normal  \n",
            "\n",
            "[310 rows x 7 columns]\n"
          ]
        }
      ]
    },
    {
      "cell_type": "code",
      "source": [
        "from os import X_OK\n",
        "df=pd.DataFrame(report)\n",
        "x=df.drop('class',axis=1)\n",
        "y=df['class']\n",
        "#converts categorical data to numerical\n",
        "label_encoder=LabelEncoder()\n",
        "y_encode=label_encoder.fit_transform(y)\n",
        "print(y_encode)\n",
        "x_train,x_test,y_train,y_test=train_test_split(x,y_encode,test_size=0.3,random_state=42)\n",
        "clf=RandomForestClassifier(n_estimators=100,random_state=42)\n",
        "clf.fit(x_train,y_train)\n",
        "y_pred=clf.predict(x_test)\n",
        "accuracy=accuracy_score(y_test,y_pred)\n",
        "print(f'Accuracy:{accuracy*100:.2f}%')\n",
        "#Decodes result\n",
        "y_pred_decode=label_encoder.inverse_transform(y_pred)\n",
        "print(f'predicted labels:{y_pred_decode}')"
      ],
      "metadata": {
        "colab": {
          "base_uri": "https://localhost:8080/"
        },
        "id": "jqkiuKBTj30B",
        "outputId": "ddc389b4-8fc7-459f-ff4b-48fc48b4b2b7"
      },
      "execution_count": 55,
      "outputs": [
        {
          "output_type": "stream",
          "name": "stdout",
          "text": [
            "[0 0 0 0 0 0 0 0 0 0 0 0 0 0 0 0 0 0 0 0 0 0 0 0 0 0 0 0 0 0 0 0 0 0 0 0 0\n",
            " 0 0 0 0 0 0 0 0 0 0 0 0 0 0 0 0 0 0 0 0 0 0 0 0 0 0 0 0 0 0 0 0 0 0 0 0 0\n",
            " 0 0 0 0 0 0 0 0 0 0 0 0 0 0 0 0 0 0 0 0 0 0 0 0 0 0 0 0 0 0 0 0 0 0 0 0 0\n",
            " 0 0 0 0 0 0 0 0 0 0 0 0 0 0 0 0 0 0 0 0 0 0 0 0 0 0 0 0 0 0 0 0 0 0 0 0 0\n",
            " 0 0 0 0 0 0 0 0 0 0 0 0 0 0 0 0 0 0 0 0 0 0 0 0 0 0 0 0 0 0 0 0 0 0 0 0 0\n",
            " 0 0 0 0 0 0 0 0 0 0 0 0 0 0 0 0 0 0 0 0 0 0 0 0 0 1 1 1 1 1 1 1 1 1 1 1 1\n",
            " 1 1 1 1 1 1 1 1 1 1 1 1 1 1 1 1 1 1 1 1 1 1 1 1 1 1 1 1 1 1 1 1 1 1 1 1 1\n",
            " 1 1 1 1 1 1 1 1 1 1 1 1 1 1 1 1 1 1 1 1 1 1 1 1 1 1 1 1 1 1 1 1 1 1 1 1 1\n",
            " 1 1 1 1 1 1 1 1 1 1 1 1 1 1]\n",
            "Accuracy:82.80%\n",
            "predicted labels:['Normal' 'Abnormal' 'Normal' 'Abnormal' 'Abnormal' 'Abnormal' 'Abnormal'\n",
            " 'Abnormal' 'Abnormal' 'Abnormal' 'Abnormal' 'Abnormal' 'Abnormal'\n",
            " 'Abnormal' 'Normal' 'Abnormal' 'Abnormal' 'Abnormal' 'Abnormal'\n",
            " 'Abnormal' 'Abnormal' 'Abnormal' 'Abnormal' 'Abnormal' 'Abnormal'\n",
            " 'Abnormal' 'Abnormal' 'Normal' 'Normal' 'Normal' 'Abnormal' 'Abnormal'\n",
            " 'Abnormal' 'Normal' 'Abnormal' 'Abnormal' 'Abnormal' 'Normal' 'Abnormal'\n",
            " 'Abnormal' 'Abnormal' 'Abnormal' 'Abnormal' 'Normal' 'Abnormal'\n",
            " 'Abnormal' 'Normal' 'Abnormal' 'Abnormal' 'Abnormal' 'Abnormal' 'Normal'\n",
            " 'Abnormal' 'Abnormal' 'Abnormal' 'Abnormal' 'Abnormal' 'Abnormal'\n",
            " 'Abnormal' 'Abnormal' 'Normal' 'Abnormal' 'Abnormal' 'Abnormal' 'Normal'\n",
            " 'Abnormal' 'Abnormal' 'Abnormal' 'Abnormal' 'Normal' 'Abnormal' 'Normal'\n",
            " 'Abnormal' 'Abnormal' 'Abnormal' 'Normal' 'Abnormal' 'Abnormal'\n",
            " 'Abnormal' 'Abnormal' 'Normal' 'Abnormal' 'Abnormal' 'Abnormal'\n",
            " 'Abnormal' 'Abnormal' 'Abnormal' 'Abnormal' 'Abnormal' 'Normal'\n",
            " 'Abnormal' 'Abnormal' 'Abnormal']\n"
          ]
        }
      ]
    },
    {
      "cell_type": "code",
      "source": [
        "new_data=pd.DataFrame({\n",
        "    'pelvic_incidence':[61.5],\n",
        "    'pelvic_tilt numeric':[22.4],\n",
        "    'lumbar_lordosis_angle':[40.3],\n",
        "    'sacral_slope':[45.5],\n",
        "    'pelvic_radius':[110.6],\n",
        "    'degree_spondylolisthesis':[4.2]\n",
        "\n",
        "})\n",
        "predictions=clf.predict(new_data)\n",
        "predicted_label=label_encoder.inverse_transform(predictions)\n",
        "print(f'predicted labels:{predicted_label}')"
      ],
      "metadata": {
        "colab": {
          "base_uri": "https://localhost:8080/"
        },
        "id": "swTjFfoxzGTZ",
        "outputId": "05307de6-8329-4cbc-ef48-466630184f3d"
      },
      "execution_count": 57,
      "outputs": [
        {
          "output_type": "stream",
          "name": "stdout",
          "text": [
            "predicted labels:['Abnormal']\n"
          ]
        }
      ]
    }
  ]
}