{
  "nbformat": 4,
  "nbformat_minor": 0,
  "metadata": {
    "colab": {
      "provenance": []
    },
    "kernelspec": {
      "name": "python3",
      "display_name": "Python 3"
    },
    "language_info": {
      "name": "python"
    }
  },
  "cells": [
    {
      "cell_type": "code",
      "execution_count": null,
      "metadata": {
        "colab": {
          "base_uri": "https://localhost:8080/"
        },
        "id": "QaWP8-3V3Goq",
        "outputId": "e069dacf-bbd9-4a3e-d5f5-f7e80ffd6633"
      },
      "outputs": [
        {
          "output_type": "stream",
          "name": "stdout",
          "text": [
            "Enter your password:hello\n",
            "login successfull\n"
          ]
        }
      ],
      "source": [
        "attempts=3\n",
        "passcode=\"hello\"\n",
        "while attempts>0:\n",
        "  passwrd=input(\"Enter your password:\")\n",
        "  if passcode==passwrd:\n",
        "    print(\"login successfull\")\n",
        "    break\n",
        "  else:\n",
        "    attempts-=1\n",
        "    print(\"try again\")\n",
        "  if attempts ==0:\n",
        "    print(\"you have no attempts\")\n",
        "\n",
        "\n"
      ]
    },
    {
      "cell_type": "code",
      "source": [
        "balance=\"12000\"\n",
        "x=int(input(\"enter the amount:\"))\n",
        "if x>int(balance):\n",
        " print(\"insufficient balance\")\n",
        "else:\n",
        "  print(\"amount withdrawed\")\n",
        "  print(\"amount balance=\",int(balance)-x)\n",
        "\n",
        "\n"
      ],
      "metadata": {
        "colab": {
          "base_uri": "https://localhost:8080/"
        },
        "id": "IMC6V3TiAJfW",
        "outputId": "fbc5a922-5357-4a9e-cf94-7a86f9601feb"
      },
      "execution_count": null,
      "outputs": [
        {
          "output_type": "stream",
          "name": "stdout",
          "text": [
            "enter the amount:6000\n",
            "amount withdrawed\n",
            "amount balance= 6000\n"
          ]
        }
      ]
    },
    {
      "cell_type": "code",
      "source": [
        "lst1=[\"apple\",\"orange\",\"jackfriut\",\"mango\",\"abc\",12,2003]\n",
        "print(lst1[2],lst1[4])"
      ],
      "metadata": {
        "colab": {
          "base_uri": "https://localhost:8080/"
        },
        "id": "QRUr7CJ3FOKV",
        "outputId": "fc2547e5-d316-4019-eea4-2b4f71c95292"
      },
      "execution_count": null,
      "outputs": [
        {
          "output_type": "stream",
          "name": "stdout",
          "text": [
            "jackfriut abc\n"
          ]
        }
      ]
    },
    {
      "cell_type": "code",
      "source": [
        "lst1=[\"apple\",\"orange\",\"jackfriut\",\"mango\",\"abc\",12,2003]\n",
        "print(lst1[1:5])\n",
        "\n",
        "lst1[1]=\"kiwi\"\n",
        "print(lst1)\n",
        "\n",
        "lst1.remove(12)\n",
        "print(lst1)\n",
        "\n",
        "lst2=[\"sigc\",\"ds\"]\n",
        "lst3=lst1+lst2\n",
        "print(lst3)\n",
        "for i in lst3:\n",
        "  print (i)\n",
        "\n",
        "lst3.insert(4,\"den\")\n",
        "print(lst3)"
      ],
      "metadata": {
        "colab": {
          "base_uri": "https://localhost:8080/"
        },
        "id": "GSzI1x52GXiC",
        "outputId": "c569bd04-28b2-4a89-d7fd-d0839ba4f489"
      },
      "execution_count": null,
      "outputs": [
        {
          "output_type": "stream",
          "name": "stdout",
          "text": [
            "['orange', 'jackfriut', 'mango', 'abc']\n",
            "['apple', 'kiwi', 'jackfriut', 'mango', 'abc', 12, 2003]\n",
            "['apple', 'kiwi', 'jackfriut', 'mango', 'abc', 2003]\n",
            "['apple', 'kiwi', 'jackfriut', 'mango', 'abc', 2003, 'sigc', 'ds']\n",
            "apple\n",
            "kiwi\n",
            "jackfriut\n",
            "mango\n",
            "abc\n",
            "2003\n",
            "sigc\n",
            "ds\n",
            "['apple', 'kiwi', 'jackfriut', 'mango', 'den', 'abc', 2003, 'sigc', 'ds']\n"
          ]
        }
      ]
    },
    {
      "cell_type": "code",
      "source": [
        "x=\"I am atchaya from trichy\"\n",
        "if \"atchaya\" in x:\n",
        "  print(\"true\")\n",
        "else:\n",
        "  print(\"false\")\n"
      ],
      "metadata": {
        "colab": {
          "base_uri": "https://localhost:8080/"
        },
        "id": "VfUYlpEhKg4r",
        "outputId": "af8fa699-1d47-43a0-e385-6443927484c4"
      },
      "execution_count": null,
      "outputs": [
        {
          "output_type": "stream",
          "name": "stdout",
          "text": [
            "true\n"
          ]
        }
      ]
    },
    {
      "cell_type": "code",
      "source": [
        "x=\"I am atchaya from trichy\"\n",
        "print(\"no\" in x)"
      ],
      "metadata": {
        "colab": {
          "base_uri": "https://localhost:8080/"
        },
        "id": "2cV2AtImL6kI",
        "outputId": "742567a5-4a15-46d7-b859-cace13590cd7"
      },
      "execution_count": null,
      "outputs": [
        {
          "output_type": "stream",
          "name": "stdout",
          "text": [
            "False\n"
          ]
        }
      ]
    },
    {
      "cell_type": "code",
      "source": [
        "x.upper()"
      ],
      "metadata": {
        "colab": {
          "base_uri": "https://localhost:8080/",
          "height": 35
        },
        "id": "vi_EBvTRMyWC",
        "outputId": "9ee15525-ff7e-41fb-b872-329a21022728"
      },
      "execution_count": null,
      "outputs": [
        {
          "output_type": "execute_result",
          "data": {
            "text/plain": [
              "'I AM ATCHAYA FROM TRICHY'"
            ],
            "application/vnd.google.colaboratory.intrinsic+json": {
              "type": "string"
            }
          },
          "metadata": {},
          "execution_count": 57
        }
      ]
    },
    {
      "cell_type": "code",
      "source": [
        "print(x[5:12])"
      ],
      "metadata": {
        "colab": {
          "base_uri": "https://localhost:8080/"
        },
        "id": "Za-CkZxSMXa9",
        "outputId": "8b8067f8-4298-4b95-96e8-b80794499589"
      },
      "execution_count": null,
      "outputs": [
        {
          "output_type": "stream",
          "name": "stdout",
          "text": [
            "atchaya\n"
          ]
        }
      ]
    },
    {
      "cell_type": "code",
      "source": [
        "x.lower()"
      ],
      "metadata": {
        "colab": {
          "base_uri": "https://localhost:8080/",
          "height": 35
        },
        "id": "gFEnZcpVM5z2",
        "outputId": "a7cc6e13-ec7b-43df-9062-314d9f2d3fc6"
      },
      "execution_count": null,
      "outputs": [
        {
          "output_type": "execute_result",
          "data": {
            "text/plain": [
              "'i am atchaya from trichy'"
            ],
            "application/vnd.google.colaboratory.intrinsic+json": {
              "type": "string"
            }
          },
          "metadata": {},
          "execution_count": 58
        }
      ]
    },
    {
      "cell_type": "code",
      "source": [
        "x.split()"
      ],
      "metadata": {
        "colab": {
          "base_uri": "https://localhost:8080/"
        },
        "id": "muZN5-78M_K6",
        "outputId": "8808cb87-6df1-47ef-fcfb-e995ba10d904"
      },
      "execution_count": null,
      "outputs": [
        {
          "output_type": "execute_result",
          "data": {
            "text/plain": [
              "['I', 'am', 'atchaya', 'from', 'trichy']"
            ]
          },
          "metadata": {},
          "execution_count": 67
        }
      ]
    },
    {
      "cell_type": "code",
      "source": [
        "z=\" second Ds\"\n",
        "x+z"
      ],
      "metadata": {
        "colab": {
          "base_uri": "https://localhost:8080/",
          "height": 53
        },
        "id": "zjegrDnIPqWj",
        "outputId": "f60bdaa8-c5f8-4fcf-b21f-d38fc633f00b"
      },
      "execution_count": null,
      "outputs": [
        {
          "output_type": "execute_result",
          "data": {
            "text/plain": [
              "'I am atchaya from trichysecond year datascincesecond year datascince second Ds'"
            ],
            "application/vnd.google.colaboratory.intrinsic+json": {
              "type": "string"
            }
          },
          "metadata": {},
          "execution_count": 85
        }
      ]
    },
    {
      "cell_type": "code",
      "source": [
        "attempts=3\n",
        "print(f\"only {attempts} left\")"
      ],
      "metadata": {
        "colab": {
          "base_uri": "https://localhost:8080/"
        },
        "id": "_u4Y_a_dPyhe",
        "outputId": "8b2732c5-e4b4-4fb4-8c70-19f0842dbc31"
      },
      "execution_count": null,
      "outputs": [
        {
          "output_type": "stream",
          "name": "stdout",
          "text": [
            "only 3 left\n"
          ]
        }
      ]
    },
    {
      "cell_type": "code",
      "source": [],
      "metadata": {
        "id": "CpK0tZYCQIMn"
      },
      "execution_count": null,
      "outputs": []
    }
  ]
}